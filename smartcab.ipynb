{
 "cells": [
  {
   "cell_type": "markdown",
   "metadata": {},
   "source": [
    "# Machine Learning Engineer Nanodegree\n",
    "# Project: Train a Smartcab to Drive\n",
    "\n",
    "Welcome to the fourth project of the Machine Learning Engineer Nanodegree! In this notebook, template code has already been provided for you to aid in your analysis of the *Smartcab* and your implemented learning algorithm. You will not need to modify the included code beyond what is requested. There will be questions that you must answer which relate to the project and the visualizations provided in the notebook. Each section where you will answer a question is preceded by a **'Question X'** header. Carefully read each question and provide thorough answers in the following text boxes that begin with **'Answer:'**. Your project submission will be evaluated based on your answers to each of the questions and the implementation you provide in `agent.py`.  \n",
    "\n",
    ">**Note:** Code and Markdown cells can be executed using the **Shift + Enter** keyboard shortcut. In addition, Markdown cells can be edited by typically double-clicking the cell to enter edit mode."
   ]
  },
  {
   "cell_type": "markdown",
   "metadata": {},
   "source": [
    "----\n",
    "## Table of Contents\n",
    "- [Getting Started](#Getting-Started)\n",
    "- [Understand the World](#Understand-the-World)\n",
    " - [Question 1](#Question-1)\n",
    "- [Understand the Code](#Understand-the-Code)\n",
    " - [Question 2](#Question-2)\n",
    "- [Implement a Basic Driving Agent](#Implement-a-Basic-Driving-Agent)\n",
    " - [Basic Agent Simulation Results](#Basic-Agent-Simulation-Results)\n",
    " - [Question 3](#Question-3)\n",
    "- [Inform the Driving Agent](#Inform-the-Driving-Agent)\n",
    " - [Identify States](#Identify-States)\n",
    " - [Question 4](#Question-4)\n",
    " - [Define a State Space](#Define-a-State-Space)\n",
    " - [Question 5](#Question-5)\n",
    " - [Update the Driving Agent State](#Update-the-Driving-Agent-State)\n",
    "- [Implement a Q-Learning Driving Agent](#Implement-a-Q-Learning-Driving-Agent)\n",
    " - [Q-Learning Simulation Results](#Q-Learning-Simulation-Results)\n",
    " - [Question 6](#Question-6)\n",
    "- [Improve the Q-Learning Driving Agent](#Improve-the-Q-Learning-Driving-Agent)\n",
    " - [Improved Q-Learning Simulation Results](#Improved-Q-Learning-Simulation-Results)\n",
    " - [Question 7](#Question-7)\n",
    "- [Define an Optimal Policy](#Define-an-Optimal-Policy)\n",
    " - [Question 8](#Question-8)\n",
    "\n",
    "----"
   ]
  },
  {
   "cell_type": "markdown",
   "metadata": {},
   "source": [
    "-----\n",
    "\n",
    "## Getting Started\n",
    "In this project, you will work towards constructing an optimized Q-Learning driving agent that will navigate a *Smartcab* through its environment towards a goal. Since the *Smartcab* is expected to drive passengers from one location to another, the driving agent will be evaluated on two very important metrics: **Safety** and **Reliability**. A driving agent that gets the *Smartcab* to its destination while running red lights or narrowly avoiding accidents would be considered **unsafe**. Similarly, a driving agent that frequently fails to reach the destination in time would be considered **unreliable**. Maximizing the driving agent's **safety** and **reliability** would ensure that *Smartcabs* have a permanent place in the transportation industry.\n",
    "\n",
    "**Safety** and **Reliability** are measured using a letter-grade system as follows:\n",
    "\n",
    "| Grade \t| Safety \t| Reliability \t|\n",
    "|:-----:\t|:------:\t|:-----------:\t|\n",
    "|   A+  \t|  Agent commits no traffic violations,<br/>and always chooses the correct action. | Agent reaches the destination in time<br />for 100% of trips. |\n",
    "|   A   \t|  Agent commits few minor traffic violations,<br/>such as failing to move on a green light. | Agent reaches the destination on time<br />for at least 90% of trips. |\n",
    "|   B   \t| Agent commits frequent minor traffic violations,<br/>such as failing to move on a green light. | Agent reaches the destination on time<br />for at least 80% of trips. |\n",
    "|   C   \t|  Agent commits at least one major traffic violation,<br/> such as driving through a red light. | Agent reaches the destination on time<br />for at least 70% of trips. |\n",
    "|   D   \t| Agent causes at least one minor accident,<br/> such as turning left on green with oncoming traffic.       \t| Agent reaches the destination on time<br />for at least 60% of trips. |\n",
    "|   F   \t|  Agent causes at least one major accident,<br />such as driving through a red light with cross-traffic.      \t| Agent fails to reach the destination on time<br />for at least 60% of trips. |\n",
    "\n",
    "To assist evaluating these important metrics, you will need to load visualization code that will be used later on in the project. Run the code cell below to import this code which is required for your analysis."
   ]
  },
  {
   "cell_type": "code",
   "execution_count": 1,
   "metadata": {
    "collapsed": true
   },
   "outputs": [],
   "source": [
    "# Import the visualization code\n",
    "import visuals as vs\n",
    "\n",
    "# Pretty display for notebooks\n",
    "%matplotlib inline"
   ]
  },
  {
   "cell_type": "markdown",
   "metadata": {},
   "source": [
    "### Understand the World\n",
    "Before starting to work on implementing your driving agent, it's necessary to first understand the world (environment) which the *Smartcab* and driving agent work in. One of the major components to building a self-learning agent is understanding the characteristics about the agent, which includes how the agent operates. To begin, simply run the `agent.py` agent code exactly how it is -- no need to make any additions whatsoever. Let the resulting simulation run for some time to see the various working components. Note that in the visual simulation (if enabled), the **white vehicle** is the *Smartcab*."
   ]
  },
  {
   "cell_type": "markdown",
   "metadata": {},
   "source": [
    "### Question 1\n",
    "In a few sentences, describe what you observe during the simulation when running the default `agent.py` agent code. Some things you could consider:\n",
    "- *Does the Smartcab move at all during the simulation?*\n",
    "- *What kind of rewards is the driving agent receiving?*\n",
    "- *How does the light changing color affect the rewards?*  \n",
    "\n",
    "**Hint:** From the `/smartcab/` top-level directory (where this notebook is located), run the command \n",
    "```bash\n",
    "'python smartcab/agent.py'\n",
    "```"
   ]
  },
  {
   "cell_type": "markdown",
   "metadata": {},
   "source": [
    "**Answer:**\n",
    "- So as I run this command `python smartcab/agent.py` to this directory on conda emulator, it executes/runs the `agent.py` file and starts to test the smartcab how it performs to different environments. Parallel to this, another window pops up called `'pygame window'` (simulator) to show the environment the smartcab is working in. It turns out that this window freezes and it shows complete blank screen, no environment seen whatsoever where the smartcab is working in. Also at the very beginning when the code starts executing, it shows this message `Simulator.__init__(): Error initializing GUI objects; display disabled`, but when I check the `__init__()` in `simulator.py` file, the `display` is set to `True` which makes me think that there's a bug in pygame. The conda emulator on the other hand which runs `agent.py` file, keeps executing the code.\n",
    "\n",
    "- As the code is being exectued of `agent.py` file, it is testing the samrtcab performance in two conditions \n",
    "    * Performance in Red Lights.\n",
    "    * Performance in Green Lights.\n",
    "\n",
    "\n",
    "- When smartcab is tested for red lights, it shows that it is in idle state and its been receiving postive rewards ranging from `2.98 to 2.25`, which makes sense since we should be in idle state on red ligths. When its tested under Green Lights with no oncoming traffic, it's still in idle state and its been receiving negative rewards ranging from `-4.9 to -4.25`, which makes sense since it shoudn't be idle on green lights even though there's no traffic ahead.\n",
    "\n",
    "- Seeing such results its clear that the smartcab doesn't move at all. The red light gives the smartcab positive rewards while at green lights negative. The agent has not been yet taught the rules of traffic signals, or may be its been taught nothing. ;)\n",
    "\n",
    "- And on neither performance tests the agent is forced to meet deadlines which is bad because without setting time limit we can't know how reliable the smartcab is to work in given environment."
   ]
  },
  {
   "cell_type": "markdown",
   "metadata": {},
   "source": [
    "### Understand the Code\n",
    "In addition to understanding the world, it is also necessary to understand the code itself that governs how the world, simulation, and so on operate. Attempting to create a driving agent would be difficult without having at least explored the *\"hidden\"* devices that make everything work. In the `/smartcab/` top-level directory, there are two folders: `/logs/` (which will be used later) and `/smartcab/`. Open the `/smartcab/` folder and explore each Python file included, then answer the following question."
   ]
  },
  {
   "cell_type": "markdown",
   "metadata": {},
   "source": [
    "### Question 2\n",
    "- *In the *`agent.py`* Python file, choose three flags that can be set and explain how they change the simulation.*\n",
    "- *In the *`environment.py`* Python file, what Environment class function is called when an agent performs an action?*\n",
    "- *In the *`simulator.py`* Python file, what is the difference between the *`'render_text()'`* function and the *`'render()'`* function?*\n",
    "- *In the *`planner.py`* Python file, will the *`'next_waypoint()`* function consider the North-South or East-West direction first?*"
   ]
  },
  {
   "cell_type": "markdown",
   "metadata": {},
   "source": [
    "**Answer:**\n",
    "- In the `agent.py` file, these are the 3 flags that change the simulation.\n",
    "    * **num_dummies**: This sets number of dummy agents in the environment we can set. The higher the dummy agents, the higher our chances of accidence and also slows our agent to let by go other dummies who has higher priority.\n",
    "    * **alpha**: Sets the rate of learning, default is 0.5. At the rate 0, the agent will not learn anything and when set to 1 it would consider to take the recent information.\n",
    "    * **display**: Default True, Set to False to disable the GUI if PyGame is enabled. \n",
    "\n",
    "\n",
    "- In the `environment.py` file, `act()` function is called when an agent performs an action.\n",
    "\n",
    "- In the `simulater.py` file, `render_text()` is the non-GUI render display of the simulation, simulated trail data is rendered in the command prompt, while `render()` is GUI render display of simulation.\n",
    "\n",
    "- In the `planner.py` file, the `next_waypoint()` considers first whether the agent has reached the destination, if not then checks for whether the destination is East or West direction to its location, if not then checks for whether the destination is North or South direction to its location. Therefore it considers **East-West direction first.**"
   ]
  },
  {
   "cell_type": "markdown",
   "metadata": {},
   "source": [
    "-----\n",
    "## Implement a Basic Driving Agent\n",
    "\n",
    "The first step to creating an optimized Q-Learning driving agent is getting the agent to actually take valid actions. In this case, a valid action is one of `None`, (do nothing) `'left'` (turn left), `right'` (turn right), or `'forward'` (go forward). For your first implementation, navigate to the `'choose_action()'` agent function and make the driving agent randomly choose one of these actions. Note that you have access to several class variables that will help you write this functionality, such as `'self.learning'` and `'self.valid_actions'`. Once implemented, run the agent file and simulation briefly to confirm that your driving agent is taking a random action each time step."
   ]
  },
  {
   "cell_type": "markdown",
   "metadata": {},
   "source": [
    "### Basic Agent Simulation Results\n",
    "To obtain results from the initial simulation, you will need to adjust following flags:\n",
    "- `'enforce_deadline'` - Set this to `True` to force the driving agent to capture whether it reaches the destination in time.\n",
    "- `'update_delay'` - Set this to a small value (such as `0.01`) to reduce the time between steps in each trial.\n",
    "- `'log_metrics'` - Set this to `True` to log the simluation results as a `.csv` file in `/logs/`.\n",
    "- `'n_test'` - Set this to `'10'` to perform 10 testing trials.\n",
    "\n",
    "Optionally, you may disable to the visual simulation (which can make the trials go faster) by setting the `'display'` flag to `False`. Flags that have been set here should be returned to their default setting when debugging. It is important that you understand what each flag does and how it affects the simulation!\n",
    "\n",
    "Once you have successfully completed the initial simulation (there should have been 20 training trials and 10 testing trials), run the code cell below to visualize the results. Note that log files are overwritten when identical simulations are run, so be careful with what log file is being loaded!\n",
    "Run the agent.py file after setting the flags from projects/smartcab folder instead of projects/smartcab/smartcab.\n"
   ]
  },
  {
   "cell_type": "code",
   "execution_count": 2,
   "metadata": {
    "collapsed": true
   },
   "outputs": [
    {
     "data": {
      "image/png": "[encoded data removed]",
      "text/plain": [
       "<Figure size 864x576 with 5 Axes>"
      ]
     },
     "metadata": {},
     "output_type": "display_data"
    }
   ],
   "source": [
    "# Load the 'sim_no-learning' log file from the initial simulation results\n",
    "vs.plot_trials('sim_no-learning.csv')"
   ]
  },
  {
   "cell_type": "markdown",
   "metadata": {},
   "source": [
    "### Question 3\n",
    "Using the visualization above that was produced from your initial simulation, provide an analysis and make several observations about the driving agent. Be sure that you are making at least one observation about each panel present in the visualization. Some things you could consider:\n",
    "- *How frequently is the driving agent making bad decisions? How many of those bad decisions cause accidents?*\n",
    "- *Given that the agent is driving randomly, does the rate of reliability make sense?*\n",
    "- *What kind of rewards is the agent receiving for its actions? Do the rewards suggest it has been penalized heavily?*\n",
    "- *As the number of trials increases, does the outcome of results change significantly?*\n",
    "- *Would this Smartcab be considered safe and/or reliable for its passengers? Why or why not?*"
   ]
  },
  {
   "cell_type": "markdown",
   "metadata": {},
   "source": [
    "**Answer:**\n",
    "- When drving agent makes bad decisions in other words takes wrong actions, it gets negative rewards. The worst the decision the higher negative rewards to it. As we can see in the above visualization of our initial simulation, out of 20 trails that were conducted, in all last 10 trails it got negative rewards for every trail, all `averaging to -1.8`.\n",
    "- Even though its receiving negative rewards, we don't see it making any major or minor accidents. But yes we do see that it has commited to some minor violations at the frequency rate ranging from `0.47 to 0.50 (approx)`. Commiting to Minor violations means failing to move on green light. Since we have already discussed that the cab isn't been taught yet to drive, meaning its not the smartcab yet, so commiting to minor violation makes sense. \n",
    "- If the agent is driving randomly then this means that it has no destination to go to. There's no target for the agent to achieve. Reliability means your agent is being tested whenther it reaches its destination in time or not. Here destination being nothing, testing for reliability woudn't make sense. And as we can see it has 0% reliability score in last 10 trials which falls in our`F` grade.\n",
    "- As we can see, as the number of trials increases, we dont see much of significant change in terms of bad actions, it ranges between `0.47 to 0.50 (approx)`, reliability on the other hand is being constant to 0. And the average reward for bad action they take is `-1.8` for all trails. So increasing the trail number here woudn't help.\n",
    "- After seeing all this I woudn't consider this safe or reliable, in fact as I said earlier this cab is not been taught to drive, its just at the idle state, being in idle state gives you good safety scores (Relative Freq.) when the signal is red but the score drops when the signal is at green since it need to move hence giving us B grade in terms of safety. "
   ]
  },
  {
   "cell_type": "markdown",
   "metadata": {},
   "source": [
    "-----\n",
    "## Inform the Driving Agent\n",
    "The second step to creating an optimized Q-learning driving agent is defining a set of states that the agent can occupy in the environment. Depending on the input, sensory data, and additional variables available to the driving agent, a set of states can be defined for the agent so that it can eventually *learn* what action it should take when occupying a state. The condition of `'if state then action'` for each state is called a **policy**, and is ultimately what the driving agent is expected to learn. Without defining states, the driving agent would never understand which action is most optimal -- or even what environmental variables and conditions it cares about!"
   ]
  },
  {
   "cell_type": "markdown",
   "metadata": {},
   "source": [
    "### Identify States\n",
    "Inspecting the `'build_state()'` agent function shows that the driving agent is given the following data from the environment:\n",
    "- `'waypoint'`, which is the direction the *Smartcab* should drive leading to the destination, relative to the *Smartcab*'s heading.\n",
    "- `'inputs'`, which is the sensor data from the *Smartcab*. It includes \n",
    "  - `'light'`, the color of the light.\n",
    "  - `'left'`, the intended direction of travel for a vehicle to the *Smartcab*'s left. Returns `None` if no vehicle is present.\n",
    "  - `'right'`, the intended direction of travel for a vehicle to the *Smartcab*'s right. Returns `None` if no vehicle is present.\n",
    "  - `'oncoming'`, the intended direction of travel for a vehicle across the intersection from the *Smartcab*. Returns `None` if no vehicle is present.\n",
    "- `'deadline'`, which is the number of actions remaining for the *Smartcab* to reach the destination before running out of time."
   ]
  },
  {
   "cell_type": "markdown",
   "metadata": {},
   "source": [
    "### Question 4\n",
    "*Which features available to the agent are most relevant for learning both **safety** and **efficiency**? Why are these features appropriate for modeling the *Smartcab* in the environment? If you did not choose some features, why are those features* not *appropriate? Please note that whatever features you eventually choose for your agent's state, must be argued for here. That is: your code in agent.py should reflect the features chosen in this answer.\n",
    "*\n",
    "\n",
    "NOTE: You are not allowed to engineer new features for the smartcab. "
   ]
  },
  {
   "cell_type": "markdown",
   "metadata": {},
   "source": [
    "**Answer:**\n",
    "\n",
    "Let's see which features are relevant to us that will make our smartcab safety and efficient -\n",
    "\n",
    "- The most important feature here to consider would be the `inputs that we get from the sensors of the smartcab`. It takes 4 inputs as we can see above, `Light` sensor is useful to determine the color of the traffic lights which is helpful because we want the smartcab to hault and go when it should. In other words, the color of the `light` which is our state should trigger right action in smartcab in order to avoid traffic violation which would avoid accidents which would in turn determine our safety.\n",
    "\n",
    "- Now once our smarcab is trained for signal regulation, we should then program it to take safe actions when other cars are present nearby. For example avoiding crashing with other cars and hault when other cars are passing by. All this will be taken care of by other 2 sensors `left and oncoming`. This would help us in getting better safety grades.\n",
    "    - `input[left]` = If 'left' has a car that intends to go straight, then the car should not take a right turn on a red light, as this would cause an accident. However, if the car on the 'left' intends to go right or left, the agent is also safe to take a right.\n",
    "    - `input[oncoming]` = 'Oncoming' is important when our agent wants to turn left, as when the light is green it still needs to wait.\n",
    "\n",
    "\n",
    "- `waypoint` sensor will help us to reach our destination by giving direction depending on where we are. This sensor will help us in getting better at efficiency since this would help us ensure that the smartcab reaches the destination in the most efficient manner possible.\n",
    "\n",
    "- `deadline` will not be included in our features because it does not help our agent to learn how to operate safely in the environment. Adding deadline to our features would add another dimension in our Q-matrix, causing it take a lot of time in training and it would find hard time learning proper actions.\n",
    "\n",
    "- `input[right]` doesn't seem to have any importance here unless the car would be able to take a U-turn within an intersection. "
   ]
  },
  {
   "cell_type": "markdown",
   "metadata": {},
   "source": [
    "### Define a State Space\n",
    "When defining a set of states that the agent can occupy, it is necessary to consider the *size* of the state space. That is to say, if you expect the driving agent to learn a **policy** for each state, you would need to have an optimal action for *every* state the agent can occupy. If the number of all possible states is very large, it might be the case that the driving agent never learns what to do in some states, which can lead to uninformed decisions. For example, consider a case where the following features are used to define the state of the *Smartcab*:\n",
    "\n",
    "`('is_raining', 'is_foggy', 'is_red_light', 'turn_left', 'no_traffic', 'previous_turn_left', 'time_of_day')`.\n",
    "\n",
    "How frequently would the agent occupy a state like `(False, True, True, True, False, False, '3AM')`? Without a near-infinite amount of time for training, it's doubtful the agent would ever learn the proper action!"
   ]
  },
  {
   "cell_type": "markdown",
   "metadata": {},
   "source": [
    "### Question 5\n",
    "*If a state is defined using the features you've selected from **Question 4**, what would be the size of the state space? Given what you know about the environment and how it is simulated, do you think the driving agent could learn a policy for each possible state within a reasonable number of training trials?*  \n",
    "**Hint:** Consider the *combinations* of features to calculate the total number of states!"
   ]
  },
  {
   "cell_type": "markdown",
   "metadata": {},
   "source": [
    "**Answer:**\n",
    "Let's create a table showing types & number of states each feature has:\n",
    "\n",
    "| Features | States | No. of States |\n",
    "| -------- | ------ | ------------- |\n",
    "| **inputs-light** | Red, Green | 2|\n",
    "| **inputs-left** | None, left, right, forward | 4|\n",
    "| **inputs-oncoming** | None, left, right, forward | 4|\n",
    "| **waypoint** | left, right, forward | 3|\n",
    "\n",
    "Now in order to get the size of the state space, we multiply all the number of possible states. **`2 x 4 x 4 x 3 = 96`**. I woudn't need much training trials here as it doesn't have much states."
   ]
  },
  {
   "cell_type": "markdown",
   "metadata": {},
   "source": [
    "### Update the Driving Agent State\n",
    "For your second implementation, navigate to the `'build_state()'` agent function. With the justification you've provided in **Question 4**, you will now set the `'state'` variable to a tuple of all the features necessary for Q-Learning. Confirm your driving agent is updating its state by running the agent file and simulation briefly and note whether the state is displaying. If the visual simulation is used, confirm that the updated state corresponds with what is seen in the simulation.\n",
    "\n",
    "**Note:** Remember to reset simulation flags to their default setting when making this observation!"
   ]
  },
  {
   "cell_type": "markdown",
   "metadata": {},
   "source": [
    "-----\n",
    "## Implement a Q-Learning Driving Agent\n",
    "The third step to creating an optimized Q-Learning agent is to begin implementing the functionality of Q-Learning itself. The concept of Q-Learning is fairly straightforward: For every state the agent visits, create an entry in the Q-table for all state-action pairs available. Then, when the agent encounters a state and performs an action, update the Q-value associated with that state-action pair based on the reward received and the iterative update rule implemented. Of course, additional benefits come from Q-Learning, such that we can have the agent choose the *best* action for each state based on the Q-values of each state-action pair possible. For this project, you will be implementing a *decaying,* $\\epsilon$*-greedy* Q-learning algorithm with *no* discount factor. Follow the implementation instructions under each **TODO** in the agent functions.\n",
    "\n",
    "Note that the agent attribute `self.Q` is a dictionary: This is how the Q-table will be formed. Each state will be a key of the `self.Q` dictionary, and each value will then be another dictionary that holds the *action* and *Q-value*. Here is an example:\n",
    "\n",
    "```\n",
    "{ 'state-1': { \n",
    "    'action-1' : Qvalue-1,\n",
    "    'action-2' : Qvalue-2,\n",
    "     ...\n",
    "   },\n",
    "  'state-2': {\n",
    "    'action-1' : Qvalue-1,\n",
    "     ...\n",
    "   },\n",
    "   ...\n",
    "}\n",
    "```\n",
    "\n",
    "Furthermore, note that you are expected to use a *decaying* $\\epsilon$ *(exploration) factor*. Hence, as the number of trials increases, $\\epsilon$ should decrease towards 0. This is because the agent is expected to learn from its behavior and begin acting on its learned behavior. Additionally, The agent will be tested on what it has learned after $\\epsilon$ has passed a certain threshold (the default threshold is 0.05). For the initial Q-Learning implementation, you will be implementing a linear decaying function for $\\epsilon$."
   ]
  },
  {
   "cell_type": "markdown",
   "metadata": {},
   "source": [
    "### Q-Learning Simulation Results\n",
    "To obtain results from the initial Q-Learning implementation, you will need to adjust the following flags and setup:\n",
    "- `'enforce_deadline'` - Set this to `True` to force the driving agent to capture whether it reaches the destination in time.\n",
    "- `'update_delay'` - Set this to a small value (such as `0.01`) to reduce the time between steps in each trial.\n",
    "- `'log_metrics'` - Set this to `True` to log the simluation results as a `.csv` file and the Q-table as a `.txt` file in `/logs/`.\n",
    "- `'n_test'` - Set this to `'10'` to perform 10 testing trials.\n",
    "- `'learning'` - Set this to `'True'` to tell the driving agent to use your Q-Learning implementation.\n",
    "\n",
    "In addition, use the following decay function for $\\epsilon$:\n",
    "\n",
    "$$ \\epsilon_{t+1} = \\epsilon_{t} - 0.05, \\hspace{10px}\\textrm{for trial number } t$$\n",
    "\n",
    "If you have difficulty getting your implementation to work, try setting the `'verbose'` flag to `True` to help debug. Flags that have been set here should be returned to their default setting when debugging. It is important that you understand what each flag does and how it affects the simulation! \n",
    "\n",
    "Once you have successfully completed the initial Q-Learning simulation, run the code cell below to visualize the results. Note that log files are overwritten when identical simulations are run, so be careful with what log file is being loaded!"
   ]
  },
  {
   "cell_type": "code",
   "execution_count": null,
   "metadata": {
    "collapsed": true
   },
   "outputs": [],
   "source": [
    "# Load the 'sim_default-learning' file from the default Q-Learning simulation\n",
    "vs.plot_trials('sim_default-learning.csv')"
   ]
  },
  {
   "cell_type": "markdown",
   "metadata": {},
   "source": [
    "### Question 6\n",
    "Using the visualization above that was produced from your default Q-Learning simulation, provide an analysis and make observations about the driving agent like in **Question 3**. Note that the simulation should have also produced the Q-table in a text file which can help you make observations about the agent's learning. Some additional things you could consider:  \n",
    "- *Are there any observations that are similar between the basic driving agent and the default Q-Learning agent?*\n",
    "- *Approximately how many training trials did the driving agent require before testing? Does that number make sense given the epsilon-tolerance?*\n",
    "- *Is the decaying function you implemented for $\\epsilon$ (the exploration factor) accurately represented in the parameters panel?*\n",
    "- *As the number of training trials increased, did the number of bad actions decrease? Did the average reward increase?*\n",
    "- *How does the safety and reliability rating compare to the initial driving agent?*"
   ]
  },
  {
   "cell_type": "markdown",
   "metadata": {},
   "source": [
    "**Answer:**\n",
    "\n",
    "- The agent went through 20 trials before testing because Epsilon is being decreased by `0.05` and it needs to hit zero before testing begins. So what makes epsilon zero is the 20 trials by this method ..$$ 0.05 * 20 = 1 $$ This decaying function given is accurately represented in the parameter panel as it decreases after each trial and at trail 20 it hits 0.\n",
    "\n",
    "- The agent's safety score has decreased poorly, getting an `F` from previous `B`, like the basic driving agent. Basic Driving agent had `0` Major accidents, Minor accidents and Major Violation and it had more than `~50%` of minor violation. By applying default Q-learning agent, we have done Major accidents by`~6%` but in last 4 trials it has increased by `~4%` which is not good at all. `Total bad action & Major Violation` is constantly being decreased as the trial goes on which is a good sign that its learning. `Minor violation & Minor Accidents` are around a constant range but there's a decrease in terms of `Minor violation` in last 3 trials.\n",
    "\n",
    "- As the number of training trials increases, the relative frequency of bad action is constantly decreasing from `~40% to ~25%` which increases our average reward value though its still receiving negative.\n",
    "\n",
    "- As I discussed before about the scores, the reliability on the other hand when applied the basic Q-Learning agent, it has changed significantly from `~10% - ~40%` giving us an `A` grade. The trial number `18` had the highest reliability score and after trial `19` its being constant. Comparing all this to previously applied basic driving agent, the reliability has definitely improved, getting from plane vanilla `0%` to `40% - 45%` reliability score. But we need to do something about this `Safety` and also improve our `Reliability`."
   ]
  },
  {
   "cell_type": "markdown",
   "metadata": {},
   "source": [
    "-----\n",
    "## Improve the Q-Learning Driving Agent\n",
    "The third step to creating an optimized Q-Learning agent is to perform the optimization! Now that the Q-Learning algorithm is implemented and the driving agent is successfully learning, it's necessary to tune settings and adjust learning paramaters so the driving agent learns both **safety** and **efficiency**. Typically this step will require a lot of trial and error, as some settings will invariably make the learning worse. One thing to keep in mind is the act of learning itself and the time that this takes: In theory, we could allow the agent to learn for an incredibly long amount of time; however, another goal of Q-Learning is to *transition from experimenting with unlearned behavior to acting on learned behavior*. For example, always allowing the agent to perform a random action during training (if $\\epsilon = 1$ and never decays) will certainly make it *learn*, but never let it *act*. When improving on your Q-Learning implementation, consider the implications it creates and whether it is logistically sensible to make a particular adjustment."
   ]
  },
  {
   "cell_type": "markdown",
   "metadata": {},
   "source": [
    "### Improved Q-Learning Simulation Results\n",
    "To obtain results from the initial Q-Learning implementation, you will need to adjust the following flags and setup:\n",
    "- `'enforce_deadline'` - Set this to `True` to force the driving agent to capture whether it reaches the destination in time.\n",
    "- `'update_delay'` - Set this to a small value (such as `0.01`) to reduce the time between steps in each trial.\n",
    "- `'log_metrics'` - Set this to `True` to log the simluation results as a `.csv` file and the Q-table as a `.txt` file in `/logs/`.\n",
    "- `'learning'` - Set this to `'True'` to tell the driving agent to use your Q-Learning implementation.\n",
    "- `'optimized'` - Set this to `'True'` to tell the driving agent you are performing an optimized version of the Q-Learning implementation.\n",
    "\n",
    "Additional flags that can be adjusted as part of optimizing the Q-Learning agent:\n",
    "- `'n_test'` - Set this to some positive number (previously 10) to perform that many testing trials.\n",
    "- `'alpha'` - Set this to a real number between 0 - 1 to adjust the learning rate of the Q-Learning algorithm.\n",
    "- `'epsilon'` - Set this to a real number between 0 - 1 to adjust the starting exploration factor of the Q-Learning algorithm.\n",
    "- `'tolerance'` - set this to some small value larger than 0 (default was 0.05) to set the epsilon threshold for testing.\n",
    "\n",
    "Furthermore, use a decaying function of your choice for $\\epsilon$ (the exploration factor). Note that whichever function you use, it **must decay to **`'tolerance'`** at a reasonable rate**. The Q-Learning agent will not begin testing until this occurs. Some example decaying functions (for $t$, the number of trials):\n",
    "\n",
    "$$ \\epsilon = a^t, \\textrm{for } 0 < a < 1 \\hspace{50px}\\epsilon = \\frac{1}{t^2}\\hspace{50px}\\epsilon = e^{-at}, \\textrm{for } 0 < a < 1 \\hspace{50px} \\epsilon = \\cos(at), \\textrm{for } 0 < a < 1$$\n",
    "You may also use a decaying function for $\\alpha$ (the learning rate) if you so choose, however this is typically less common. If you do so, be sure that it adheres to the inequality $0 \\leq \\alpha \\leq 1$.\n",
    "\n",
    "If you have difficulty getting your implementation to work, try setting the `'verbose'` flag to `True` to help debug. Flags that have been set here should be returned to their default setting when debugging. It is important that you understand what each flag does and how it affects the simulation! \n",
    "\n",
    "Once you have successfully completed the improved Q-Learning simulation, run the code cell below to visualize the results. Note that log files are overwritten when identical simulations are run, so be careful with what log file is being loaded!"
   ]
  },
  {
   "cell_type": "markdown",
   "metadata": {},
   "source": [
    "**To improve the Q-Learning, I haven't changed any additional flags but only of `optimized` to `True`. I have also changed `alpha & tolerance` value but only where noted. What I have changed is decay function for $\\epsilon$, decreasing $\\epsilon$ by less value than default of `0.5`, so we can get more training trials to get desired grades and scores.**\n",
    "\n",
    "Let's try values decreasing from `0.05` in descending order and visualize its results:"
   ]
  },
  {
   "cell_type": "markdown",
   "metadata": {},
   "source": [
    "**Using the following decay function for $\\epsilon$:**\n",
    "\n",
    "$$ \\epsilon_{t+1} = \\epsilon_{t} - 0.01, \\hspace{10px}\\textrm{for trial number } t$$\n",
    "\n",
    "**with default `alpha & tolerance values`**"
   ]
  },
  {
   "cell_type": "code",
   "execution_count": null,
   "metadata": {},
   "outputs": [],
   "source": [
    "# Load the 'sim_improved-learning' file from the improved Q-Learning simulation\n",
    "vs.plot_trials('sim_improved-learning_e-0.01.csv')"
   ]
  },
  {
   "cell_type": "markdown",
   "metadata": {},
   "source": [
    "----------"
   ]
  },
  {
   "cell_type": "markdown",
   "metadata": {},
   "source": [
    "**Using the following decay function for $\\epsilon$:**\n",
    "\n",
    "$$ \\epsilon_{t+1} = \\epsilon_{t} - 0.01, \\hspace{10px}\\textrm{for trial number } t$$\n",
    "\n",
    "\n",
    "**alpha = 0.1 and tolerance = 0.001**"
   ]
  },
  {
   "cell_type": "code",
   "execution_count": null,
   "metadata": {},
   "outputs": [],
   "source": [
    "# Load the 'sim_improved-learning' file from the improved Q-Learning simulation\n",
    "vs.plot_trials('sim_improved-learning_e-0.01_at.csv')"
   ]
  },
  {
   "cell_type": "markdown",
   "metadata": {},
   "source": [
    "-------"
   ]
  },
  {
   "cell_type": "markdown",
   "metadata": {},
   "source": [
    "**Using the following decay function for $\\epsilon$:**\n",
    "\n",
    "$$ \\epsilon_{t+1} = \\epsilon_{t} - 0.005, \\hspace{10px}\\textrm{for trial number } t$$\n",
    "\n",
    "**with default `alpha & tolerance values`**"
   ]
  },
  {
   "cell_type": "code",
   "execution_count": null,
   "metadata": {},
   "outputs": [],
   "source": [
    "# Load the 'sim_improved-learning' file from the improved Q-Learning simulation\n",
    "vs.plot_trials('sim_improved-learning_e-0.005.csv')"
   ]
  },
  {
   "cell_type": "markdown",
   "metadata": {},
   "source": [
    "-------"
   ]
  },
  {
   "cell_type": "markdown",
   "metadata": {},
   "source": [
    "**Using the following decay function for $\\epsilon$:**\n",
    "\n",
    "$$ \\epsilon_{t+1} = \\epsilon_{t} - 0.005, \\hspace{10px}\\textrm{for trial number } t$$\n",
    "\n",
    "\n",
    "**alpha = 0.1 and tolerance = 0.001**"
   ]
  },
  {
   "cell_type": "code",
   "execution_count": null,
   "metadata": {},
   "outputs": [],
   "source": [
    "# Load the 'sim_improved-learning' file from the improved Q-Learning simulation\n",
    "vs.plot_trials('sim_improved-learning_e-0.005_at.csv')"
   ]
  },
  {
   "cell_type": "markdown",
   "metadata": {},
   "source": [
    "--------"
   ]
  },
  {
   "cell_type": "markdown",
   "metadata": {},
   "source": [
    "**Using the following decay function for $\\epsilon$:**\n",
    "\n",
    "$$ \\epsilon_{t+1} = \\epsilon_{t} - 0.001, \\hspace{10px}\\textrm{for trial number } t$$\n",
    "\n",
    "**with default `alpha & tolerance values`**"
   ]
  },
  {
   "cell_type": "code",
   "execution_count": null,
   "metadata": {},
   "outputs": [],
   "source": [
    "# Load the 'sim_improved-learning' file from the improved Q-Learning simulation\n",
    "vs.plot_trials('sim_improved-learning_e-0.001.csv')"
   ]
  },
  {
   "cell_type": "markdown",
   "metadata": {},
   "source": [
    "-----------"
   ]
  },
  {
   "cell_type": "markdown",
   "metadata": {},
   "source": [
    "**Using the following decay function for $\\epsilon$:**\n",
    "\n",
    "$$ \\epsilon_{t+1} = \\epsilon_{t} - 0.001, \\hspace{10px}\\textrm{for trial number } t$$\n",
    "\n",
    "\n",
    "**alpha = 0.1 and tolerance = 0.001**"
   ]
  },
  {
   "cell_type": "code",
   "execution_count": null,
   "metadata": {},
   "outputs": [],
   "source": [
    "# Load the 'sim_improved-learning' file from the improved Q-Learning simulation\n",
    "vs.plot_trials('sim_improved-learning_e-0.001_at.csv')"
   ]
  },
  {
   "cell_type": "markdown",
   "metadata": {},
   "source": [
    "-------"
   ]
  },
  {
   "cell_type": "markdown",
   "metadata": {},
   "source": [
    "**Using the following decay function for $\\epsilon$:**\n",
    "\n",
    "$$ \\epsilon_{t+1} = \\epsilon_{t} - 0.0005, \\hspace{10px}\\textrm{for trial number } t$$\n",
    "\n",
    "**with default `alpha & tolerance values`**"
   ]
  },
  {
   "cell_type": "code",
   "execution_count": null,
   "metadata": {},
   "outputs": [],
   "source": [
    "# Load the 'sim_improved-learning' file from the improved Q-Learning simulation\n",
    "vs.plot_trials('sim_improved-learning_e-0.0005.csv')"
   ]
  },
  {
   "cell_type": "markdown",
   "metadata": {},
   "source": [
    "-----------"
   ]
  },
  {
   "cell_type": "markdown",
   "metadata": {},
   "source": [
    "**Using the following decay function for $\\epsilon$:**\n",
    "\n",
    "$$ \\epsilon_{t+1} = \\epsilon_{t} - 0.0005, \\hspace{10px}\\textrm{for trial number } t$$\n",
    "\n",
    "\n",
    "**alpha = 0.1 and tolerance = 0.001**"
   ]
  },
  {
   "cell_type": "code",
   "execution_count": null,
   "metadata": {},
   "outputs": [],
   "source": [
    "# Load the 'sim_improved-learning' file from the improved Q-Learning simulation\n",
    "vs.plot_trials('sim_improved-learning_e-0.0005_at.csv')"
   ]
  },
  {
   "cell_type": "markdown",
   "metadata": {},
   "source": [
    "-----------"
   ]
  },
  {
   "cell_type": "markdown",
   "metadata": {},
   "source": [
    "**Using following decay function for $\\epsilon$:**\n",
    "\n",
    "$$ \\epsilon_{t+1} = \\epsilon_{t} - 0.0004, \\hspace{10px}\\textrm{for trial number } t$$\n",
    "\n",
    "**with default `alpha & tolerance values`**"
   ]
  },
  {
   "cell_type": "code",
   "execution_count": null,
   "metadata": {},
   "outputs": [],
   "source": [
    "# Load the 'sim_improved-learning' file from the improved Q-Learning simulation\n",
    "vs.plot_trials('sim_improved-learning_e-0.0004.csv')"
   ]
  },
  {
   "cell_type": "markdown",
   "metadata": {},
   "source": [
    "---------"
   ]
  },
  {
   "cell_type": "markdown",
   "metadata": {},
   "source": [
    "**Using following decay function for $\\epsilon$:**\n",
    "\n",
    "$$ \\epsilon_{t+1} = \\epsilon_{t} - 0.0004, \\hspace{10px}\\textrm{for trial number } t$$\n",
    "\n",
    "**alpha = 0.1 and tolerance = 0.001**"
   ]
  },
  {
   "cell_type": "code",
   "execution_count": null,
   "metadata": {},
   "outputs": [],
   "source": [
    "# Load the 'sim_improved-learning' file from the improved Q-Learning simulation\n",
    "vs.plot_trials('sim_improved-learning_e-0.0004_at.csv')"
   ]
  },
  {
   "cell_type": "markdown",
   "metadata": {},
   "source": [
    "----------"
   ]
  },
  {
   "cell_type": "markdown",
   "metadata": {},
   "source": [
    "### Question 7\n",
    "Using the visualization above that was produced from your improved Q-Learning simulation, provide a final analysis and make observations about the improved driving agent like in **Question 6**. Questions you should answer:  \n",
    "- *What decaying function was used for epsilon (the exploration factor)?*\n",
    "- *Approximately how many training trials were needed for your agent before begining testing?*\n",
    "- *What epsilon-tolerance and alpha (learning rate) did you use? Why did you use them?*\n",
    "- *How much improvement was made with this Q-Learner when compared to the default Q-Learner from the previous section?*\n",
    "- *Would you say that the Q-Learner results show that your driving agent successfully learned an appropriate policy?*\n",
    "- *Are you satisfied with the safety and reliability ratings of the *Smartcab*?*"
   ]
  },
  {
   "cell_type": "markdown",
   "metadata": {},
   "source": [
    "Below is the table of all the results that I got from the simulations that I ran above, values applied (epsilon, alpha & tolerance) and results delivered."
   ]
  },
  {
   "cell_type": "markdown",
   "metadata": {},
   "source": [
    "**Answer:** \n",
    "\n",
    "| **Attempt** | **Epsilon** | **Alpha** | **Tolerance** | **Safety** | **Reliability** | **Destination Reached** | **Training Trials** | **Tests** |\n",
    "| ------- | ------- | ----- | --------- | ------ | ----------- | ------------------- |\n",
    "| 1 | $$ \\epsilon_{t+1} = \\epsilon_{t} - 0.01\\hspace{25px} $$ | 0.5 | 0.05 | **F** | **A+** | Yes | 95 | 10 |\n",
    "| 2 | $$ \\epsilon_{t+1} = \\epsilon_{t} - 0.01\\hspace{25px} $$ | 0.1 | 0.001 | **F** | **B** | Yes | 100 | 10 |\n",
    "| 3 | $$ \\epsilon_{t+1} = \\epsilon_{t} - 0.005\\hspace{25px} $$ | 0.5 | 0.05 | **F** | **A+** | Yes | 190 | 10 |\n",
    "| 4 | $$ \\epsilon_{t+1} = \\epsilon_{t} - 0.005\\hspace{25px} $$ | 0.1 | 0.001 | **F** | **A** | No | 200 | 10 |\n",
    "| 5 | $$ \\epsilon_{t+1} = \\epsilon_{t} - 0.001\\hspace{25px} $$ | 0.5 | 0.05 | **A+** | **A+** | Yes | 950 | 10 |\n",
    "| **--> 6** | $$ \\epsilon_{t+1} = \\epsilon_{t} - 0.001\\hspace{25px} $$ | **0.1** | **0.001** | **A+** | **A+** |**Yes** | **999** | **10** |\n",
    "| 7 | $$ \\epsilon_{t+1} = \\epsilon_{t} - 0.0005\\hspace{25px} $$ | 0.5 | 0.05 | **A+** | **A+** | Yes | 1901 | 10 |\n",
    "| 8 | $$ \\epsilon_{t+1} = \\epsilon_{t} - 0.0005\\hspace{25px} $$ | 0.1 | 0.001 | **A+** | **A+** | Yes |1999| 10 |\n",
    "| 9 | $$ \\epsilon_{t+1} = \\epsilon_{t} - 0.0004\\hspace{25px} $$ | 0.5 | 0.05 | **A+** | **A+** | Yes | 2376 | 10 |\n",
    "| 10 | $$ \\epsilon_{t+1} = \\epsilon_{t} - 0.0004\\hspace{25px} $$ | 0.1 | 0.001 | **A+** | **A+** | Yes | 2498 | 10 |"
   ]
  },
  {
   "cell_type": "markdown",
   "metadata": {},
   "source": [
    "As you can see from the above table I have applied 5 different Epsilon values, giving each epsilon value a default and custom alpha and tolerance values, resulting in 10 attempts. In all attempts, Epsilon here is a Linear decaying function where epsilon gets decreased by x (epsilon value in any one attempt) each time through, the lower the epsilon value is decreased by, the higher training trails.\n",
    "\n",
    "What I found here by running simulations with those different values is that it needs atleast around 1k trianing trails in order to get A+ grades both in terms of safety and reliability. As we increase training trails, the grade stays A+ consistantly but it does have a little ups and downs in terms of frequency in accidents and violation. More training attempts doesn't give null violation and accidents but we see it fluctuates around 0 frequency. Rewards also stays same around ~+2 for more than around 1000 training trails.\n",
    "\n",
    "From all the different epsilon values applied, **the best one, the one that I would apply to the Improved Q-Learning Model is with Epsilon Value of 0.001 with alpha value value of 0.1 and tolerance value of 0.001.** In terms of grades, yes there are many getting A+ grades in both but it takes more time to train with higher training values and also the one choosen has most near approach to 0 in frequency in violation and accidents. I have highlighted with bold the model I choose also marked it. Attempt no. 6 is way to go!"
   ]
  },
  {
   "cell_type": "markdown",
   "metadata": {},
   "source": [
    "------"
   ]
  },
  {
   "cell_type": "markdown",
   "metadata": {},
   "source": [
    "To compare my Improved Q-Learning model with the default Q-Learning, I have made a table below which shows the results that I got from each. Comparing training Trails, Frequency of accidents & violation, grades and reliability score."
   ]
  },
  {
   "cell_type": "markdown",
   "metadata": {},
   "source": [
    "|           | **Training Trails** | **Parameter Value** | **Bad Action (Frequency)** | **Minor Violation (Frequency)** | **Major Violation (Frequency)** | **Minor Accidents (Frequency)** | **Major Accidents (Frequency)** | **Rewards** | **Safety** | **Reliability** | **Reliability Score** |\n",
    "| -------------- | ------- | ----- | --------- | ------ | ----------- | ---------- | ------- | ------- | ------- | -------- |\n",
    "| **Default Q-Learning** | 20 | 0.5 | ~22% | ~4.5% | ~9.1% | ~2% | ~9% | -4 | F | A | ~40% |\n",
    "| **Improved Q-Learning** | 999 | 0.1 | ~0% | ~0% | ~0% | ~0% | ~0% | 2 | A+ | A+ | ~100% |"
   ]
  },
  {
   "cell_type": "markdown",
   "metadata": {},
   "source": [
    "\n",
    "- Increased training trial by decreasing Epsilon by less each run.\n",
    "- Bad Action's relative frequency goes from ~22% to ~0%.\n",
    "- Minor Violation's relative frequency goes from ~4.5% to ~0%.\n",
    "- Major Violation's relative frequency goes from ~9.1% to ~0%.\n",
    "- Minor Accident's relative frequency goes from ~2% to ~0%\n",
    "- Major Accident's relative frequency goes from ~9% to ~0%\n",
    "- Rewards increases from -4 to +2.\n",
    "- Safety Grades Uplifts from F to A+.\n",
    "- Reliability Grades Uplifts from A to A+.\n",
    "- Reliability Score boosts from ~40% to ~100%.\n",
    "\n",
    "\n",
    "I would definitely say that the results show that the driving agent has learned an appropriate policy - the average reward being positive, along with 100% reliability and high safety with ~100% of good actions, shows it has become very effective.\n",
    "\n",
    "**And YES! I am satisfied with the results above of the Q-Learning model I choosed after 999 trails.**"
   ]
  },
  {
   "cell_type": "markdown",
   "metadata": {},
   "source": [
    "-------"
   ]
  },
  {
   "cell_type": "markdown",
   "metadata": {},
   "source": [
    "### Define an Optimal Policy\n",
    "\n",
    "Sometimes, the answer to the important question *\"what am I trying to get my agent to learn?\"* only has a theoretical answer and cannot be concretely described. Here, however, you can concretely define what it is the agent is trying to learn, and that is the U.S. right-of-way traffic laws. Since these laws are known information, you can further define, for each state the *Smartcab* is occupying, the optimal action for the driving agent based on these laws. In that case, we call the set of optimal state-action pairs an **optimal policy**. Hence, unlike some theoretical answers, it is clear whether the agent is acting \"incorrectly\" not only by the reward (penalty) it receives, but also by pure observation. If the agent drives through a red light, we both see it receive a negative reward but also know that it is not the correct behavior. This can be used to your advantage for verifying whether the **policy** your driving agent has learned is the correct one, or if it is a **suboptimal policy**."
   ]
  },
  {
   "cell_type": "markdown",
   "metadata": {},
   "source": [
    "### Question 8\n",
    "\n",
    "1. Please summarize what the optimal policy is for the smartcab in the given environment. What would be the best set of instructions possible given what we know about the environment? \n",
    "   _You can explain with words or a table, but you should thoroughly discuss the optimal policy._\n",
    "\n",
    "2. Next, investigate the `'sim_improved-learning_e-0.001_at.txt'` text file to see the results of your improved Q-Learning algorithm. _For each state that has been recorded from the simulation, is the **policy** (the action with the highest value) correct for the given state? Are there any states where the policy is different than what would be expected from an optimal policy?_ \n",
    "\n",
    "3. Provide a few examples from your recorded Q-table which demonstrate that your smartcab learned the optimal policy. Explain why these entries demonstrate the optimal policy.\n",
    "\n",
    "4. Try to find at least one entry where the smartcab did _not_ learn the optimal policy.  Discuss why your cab may have not learned the correct policy for the given state.\n",
    "\n",
    "Be sure to document your `state` dictionary below, it should be easy for the reader to understand what each state represents."
   ]
  },
  {
   "cell_type": "markdown",
   "metadata": {},
   "source": [
    "**Answer:** \n",
    "\n",
    "The Optimal Policy for the smartcab in the given environment is (in the way of an example):\n",
    "\n",
    "- When waypoint is RIGHT:\n",
    "    - If car is coming from LEFT, agent should WAIT.\n",
    "    - Else, GO RIGHT.\n",
    "- When waypoint is LEFT:\n",
    "    - If light is GREEN AND oncoming traffic is moving LEFT OR NO oncoming traffic, agent shoult GO LEFT.\n",
    "    - If light is RED, then WAIT.\n",
    "    - Else, GO FORWARD.\n",
    "- When waypoint is FORWARD:\n",
    "    - If light is GREEN, agent should GO FORWARD.\n",
    "    - Else, WAIT."
   ]
  },
  {
   "cell_type": "markdown",
   "metadata": {},
   "source": [
    "Investigating the `sim_improved-learning_e-0.001_at.txt` text file, to see the results of my Improved Q-Learning Model. I am selecting a random record from this file and here it is:\n",
    "\n",
    "**Current State of My Agent**\n",
    "\n",
    "| State | Waypoint | Input-Light | Input-Left | Input-Right | Input-Oncoming |\n",
    "| --------- | ------------ | --------------- | -------------- | --------------- | ------------------ |\n",
    "| **Current State** | Left | Green | None | None | None |\n",
    "\n",
    "**Rewards Based on Actions depending on above State**\n",
    "\n",
    "| Action | Forward | None | Right | Left |\n",
    "| ------ | ------- | ---- | ----- | ---- |\n",
    "| Reward | 0.81 | -5.11 | 0.72 | 2.02 |\n",
    "\n",
    "The current state of the agent as we can see from the above table is when the waypoint is Left and the Signal is Green and there is no cab to left, right and oncoming traffic, the agent takes the left turn and thats the optimal action. Waiting on the other hand is bad action and there's heavy penalty to pay `-5.11` while moving forward or taking right would be minor violation, so there's much less reward of `0.81 and 0.72` respectively.\n"
   ]
  },
  {
   "cell_type": "markdown",
   "metadata": {},
   "source": [
    "**Let's have a look to few more examples:**\n",
    "\n",
    "**Current State of My Agent**\n",
    "\n",
    "| State | Waypoint | Input-Light | Input-Left | Input-Right | Input-Oncoming |\n",
    "| --------- | ------------ | --------------- | -------------- | --------------- | ------------------ |\n",
    "| **Current State** | Forward | Red | Forward | None | None |\n",
    "\n",
    "**Rewards Based on Actions depending on above State**\n",
    "\n",
    "| Action | Forward | None | Right | Left |\n",
    "| ------ | ------- | ---- | ----- | ---- |\n",
    "| Reward | -31.58 | 1.91 | -17.21 | -35.79 |\n",
    "\n",
    "When the waypoint of agent is Forward, and the Signal is RED, the agent does nothing and is idle which again here is an optimal action. Moving Forward, taking Right or Left violates the law and has heavy penalty to pay of `-31.58, -17.21 and -35.79`."
   ]
  },
  {
   "cell_type": "markdown",
   "metadata": {},
   "source": [
    "**Current State of My Agent**\n",
    "\n",
    "| State | Waypoint | Input-Light | Input-Left | Input-Right | Input-Oncoming |\n",
    "| --------- | ------------ | --------------- | -------------- | --------------- | ------------------ |\n",
    "| **Current State** | Forward | Green | Right | None | None |\n",
    "\n",
    "**Rewards Based on Actions depending on above State**\n",
    "\n",
    "| Action | Forward | None | Right | Left |\n",
    "| ------ | ------- | ---- | ----- | ---- |\n",
    "| Reward | 2.22 | -3.66 | 0.14 | 0.30 |\n",
    "\n",
    "When the waypoint of agent is Forward, and the Signal is GREEN, the agent moves Forward. Again an example of Good optimal action. Sitting Idle would violate the law with a penalty of `-3.66` and going Right or Left would result in minor violation which has less rewards."
   ]
  },
  {
   "cell_type": "markdown",
   "metadata": {},
   "source": [
    "**Current State of My Agent**\n",
    "\n",
    "| State | Waypoint | Input-Light | Input-Left | Input-Right | Input-Oncoming |\n",
    "| --------- | ------------ | --------------- | -------------- | --------------- | ------------------ |\n",
    "| **Current State** | Left | Green | Forward | Forward | Forward |\n",
    "\n",
    "**Rewards Based on Actions depending on above State**\n",
    "\n",
    "| Action | Forward | None | Right | Left |\n",
    "| ------ | ------- | ---- | ----- | ---- |\n",
    "| Reward | -0.02 | -1.09 | 0.16 | -1.97 |\n",
    "\n",
    "Here, when the waypoint of the agent is Left, and the Signal is GREEN, the optimal action here for the agent is shown that it should go to right which is not what we expect and might lead to accidents and also delaying arrival time. The penalty to go to the left here is more than sitting idle even though the agent waypoint is Left and signal is GREEN. The optimal action here should be Left, ofcourse, meaning it should have higher rewards than any state. But its the opposite. We may need more training trails to learn the optimal Q-table, since there are 384 different states. "
   ]
  },
  {
   "cell_type": "markdown",
   "metadata": {},
   "source": [
    "-----\n",
    "### Optional: Future Rewards - Discount Factor, `'gamma'`\n",
    "Curiously, as part of the Q-Learning algorithm, you were asked to **not** use the discount factor, `'gamma'` in the implementation. Including future rewards in the algorithm is used to aid in propagating positive rewards backwards from a future state to the current state. Essentially, if the driving agent is given the option to make several actions to arrive at different states, including future rewards will bias the agent towards states that could provide even more rewards. An example of this would be the driving agent moving towards a goal: With all actions and rewards equal, moving towards the goal would theoretically yield better rewards if there is an additional reward for reaching the goal. However, even though in this project, the driving agent is trying to reach a destination in the allotted time, including future rewards will not benefit the agent. In fact, if the agent were given many trials to learn, it could negatively affect Q-values!"
   ]
  },
  {
   "cell_type": "markdown",
   "metadata": {},
   "source": [
    "### Optional Question 9\n",
    "*There are two characteristics about the project that invalidate the use of future rewards in the Q-Learning algorithm. One characteristic has to do with the *Smartcab* itself, and the other has to do with the environment. Can you figure out what they are and why future rewards won't work for this project?*"
   ]
  },
  {
   "cell_type": "markdown",
   "metadata": {},
   "source": [
    "**Answer:**"
   ]
  }
 ],
 "metadata": {
  "kernelspec": {
   "display_name": "Python [conda env:py2]",
   "language": "python",
   "name": "conda-env-py2-py"
  },
  "language_info": {
   "codemirror_mode": {
    "name": "ipython",
    "version": 2
   },
   "file_extension": ".py",
   "mimetype": "text/x-python",
   "name": "python",
   "nbconvert_exporter": "python",
   "pygments_lexer": "ipython2",
   "version": "2.7.15"
  }
 },
 "nbformat": 4,
 "nbformat_minor": 2
}
